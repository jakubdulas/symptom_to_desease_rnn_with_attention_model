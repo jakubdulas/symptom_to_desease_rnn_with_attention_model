{
 "cells": [
  {
   "cell_type": "code",
   "execution_count": 110,
   "metadata": {},
   "outputs": [],
   "source": [
    "import pandas as pd\n",
    "import numpy as np\n",
    "import tensorflow as tf\n",
    "import os\n",
    "import keras.backend as K\n",
    "import matplotlib.pyplot as plt\n",
    "from tensorflow.keras.preprocessing.sequence import pad_sequences\n",
    "from keras.preprocessing.text import Tokenizer\n",
    "from tensorflow.keras.layers import Embedding, LSTM, Bidirectional, Dense, Reshape, Input, Dot, Dropout"
   ]
  },
  {
   "cell_type": "code",
   "execution_count": 111,
   "metadata": {},
   "outputs": [],
   "source": [
    "def softmax_over_time(x):\n",
    "    assert(K.ndim(x) > 2)\n",
    "    e = K.exp(x - K.max(x, axis=1, keepdims=True))\n",
    "    s = K.sum(e, axis=1, keepdims=True)\n",
    "    return e / s"
   ]
  },
  {
   "cell_type": "code",
   "execution_count": 112,
   "metadata": {},
   "outputs": [],
   "source": [
    "BATCH_SIZE = 32\n",
    "EPOCHS = 30\n",
    "LATENT_DIM = 256\n",
    "MAX_NUM_WORDS = 20000\n",
    "MAX_VOCAB_SIZE = 10000\n",
    "MAX_SEQUENCE_LENGTH = 100\n",
    "EMBEDDING_DIM = 300"
   ]
  },
  {
   "cell_type": "code",
   "execution_count": 113,
   "metadata": {},
   "outputs": [],
   "source": [
    "word2vec = {}\n",
    "with open(os.path.join('glove.6B/glove.6B.%sd.txt' % EMBEDDING_DIM)) as f:\n",
    "    for line in f:\n",
    "        values = line.split()\n",
    "        word = values[0]\n",
    "        vec = np.asarray(values[1:], dtype='float32')\n",
    "        word2vec[word] = vec"
   ]
  },
  {
   "cell_type": "code",
   "execution_count": 114,
   "metadata": {},
   "outputs": [
    {
     "data": {
      "text/html": [
       "<div>\n",
       "<style scoped>\n",
       "    .dataframe tbody tr th:only-of-type {\n",
       "        vertical-align: middle;\n",
       "    }\n",
       "\n",
       "    .dataframe tbody tr th {\n",
       "        vertical-align: top;\n",
       "    }\n",
       "\n",
       "    .dataframe thead th {\n",
       "        text-align: right;\n",
       "    }\n",
       "</style>\n",
       "<table border=\"1\" class=\"dataframe\">\n",
       "  <thead>\n",
       "    <tr style=\"text-align: right;\">\n",
       "      <th></th>\n",
       "      <th>Unnamed: 0</th>\n",
       "      <th>label</th>\n",
       "      <th>text</th>\n",
       "    </tr>\n",
       "  </thead>\n",
       "  <tbody>\n",
       "    <tr>\n",
       "      <th>0</th>\n",
       "      <td>0</td>\n",
       "      <td>Psoriasis</td>\n",
       "      <td>I have been experiencing a skin rash on my arm...</td>\n",
       "    </tr>\n",
       "    <tr>\n",
       "      <th>1</th>\n",
       "      <td>1</td>\n",
       "      <td>Psoriasis</td>\n",
       "      <td>My skin has been peeling, especially on my kne...</td>\n",
       "    </tr>\n",
       "    <tr>\n",
       "      <th>2</th>\n",
       "      <td>2</td>\n",
       "      <td>Psoriasis</td>\n",
       "      <td>I have been experiencing joint pain in my fing...</td>\n",
       "    </tr>\n",
       "    <tr>\n",
       "      <th>3</th>\n",
       "      <td>3</td>\n",
       "      <td>Psoriasis</td>\n",
       "      <td>There is a silver like dusting on my skin, esp...</td>\n",
       "    </tr>\n",
       "    <tr>\n",
       "      <th>4</th>\n",
       "      <td>4</td>\n",
       "      <td>Psoriasis</td>\n",
       "      <td>My nails have small dents or pits in them, and...</td>\n",
       "    </tr>\n",
       "  </tbody>\n",
       "</table>\n",
       "</div>"
      ],
      "text/plain": [
       "   Unnamed: 0      label                                               text\n",
       "0           0  Psoriasis  I have been experiencing a skin rash on my arm...\n",
       "1           1  Psoriasis  My skin has been peeling, especially on my kne...\n",
       "2           2  Psoriasis  I have been experiencing joint pain in my fing...\n",
       "3           3  Psoriasis  There is a silver like dusting on my skin, esp...\n",
       "4           4  Psoriasis  My nails have small dents or pits in them, and..."
      ]
     },
     "execution_count": 114,
     "metadata": {},
     "output_type": "execute_result"
    }
   ],
   "source": [
    "dataset = pd.read_csv(\"Symptom2Disease.csv\")\n",
    "dataset.head()"
   ]
  },
  {
   "cell_type": "code",
   "execution_count": 115,
   "metadata": {},
   "outputs": [],
   "source": [
    "texts= dataset['text'].values\n",
    "labels = dataset['label'].values"
   ]
  },
  {
   "cell_type": "code",
   "execution_count": 116,
   "metadata": {},
   "outputs": [],
   "source": [
    "tokenizer = Tokenizer(MAX_NUM_WORDS)\n",
    "tokenizer.fit_on_texts(texts)\n",
    "sequences = tokenizer.texts_to_sequences(texts)"
   ]
  },
  {
   "cell_type": "code",
   "execution_count": 117,
   "metadata": {},
   "outputs": [
    {
     "data": {
      "text/plain": [
       "1575"
      ]
     },
     "execution_count": 117,
     "metadata": {},
     "output_type": "execute_result"
    }
   ],
   "source": [
    "word2idx = tokenizer.word_index\n",
    "len(word2idx)"
   ]
  },
  {
   "cell_type": "code",
   "execution_count": 118,
   "metadata": {},
   "outputs": [
    {
     "data": {
      "text/plain": [
       "(1200, 100)"
      ]
     },
     "execution_count": 118,
     "metadata": {},
     "output_type": "execute_result"
    }
   ],
   "source": [
    "X = pad_sequences(sequences, maxlen=MAX_SEQUENCE_LENGTH)\n",
    "X.shape"
   ]
  },
  {
   "cell_type": "code",
   "execution_count": 119,
   "metadata": {},
   "outputs": [],
   "source": [
    "num_words = min(MAX_VOCAB_SIZE, len(word2idx) + 1)\n",
    "embedding_matrix = np.zeros((num_words, EMBEDDING_DIM))\n",
    "for word, i in word2idx.items():\n",
    "    if i < MAX_VOCAB_SIZE:\n",
    "        embedding_vector = word2vec.get(word)\n",
    "        if embedding_vector is not None:\n",
    "            embedding_matrix[i] = embedding_vector"
   ]
  },
  {
   "cell_type": "code",
   "execution_count": 120,
   "metadata": {},
   "outputs": [],
   "source": [
    "classes = np.unique(labels)\n",
    "targets = np.zeros((len(labels), len(classes)))\n",
    "\n",
    "for i, d in enumerate(labels):\n",
    "    targets[i, np.where(d==classes)] = 1"
   ]
  },
  {
   "cell_type": "code",
   "execution_count": 121,
   "metadata": {},
   "outputs": [
    {
     "name": "stderr",
     "output_type": "stream",
     "text": [
      "/var/folders/dv/3lz4fq1n7sv4p3rrxgbjgpth0000gn/T/ipykernel_5177/3629394019.py:1: VisibleDeprecationWarning: Creating an ndarray from ragged nested sequences (which is a list-or-tuple of lists-or-tuples-or ndarrays with different lengths or shapes) is deprecated. If you meant to do this, you must specify 'dtype=object' when creating the ndarray.\n",
      "  data = np.array([(x, y) for x, y in [*zip(X, targets)]])\n"
     ]
    },
    {
     "data": {
      "text/plain": [
       "array([array([  0,   0,   0,   0,   0,   0,   0,   0,   0,   0,   0,   0,   0,\n",
       "                0,   0,   0,   0,   0,   0,   0,   0,   0,   0,   0,   0,   0,\n",
       "                0,   0,   0,   0,   0,   0,   0,   0,   0,   0,   0,   0,   0,\n",
       "                0,   0,   0,   0,   0,   0,   0,   0,   0,   0,   0,   0,   0,\n",
       "                0,   0,   0,   0,   0,   0,   0,   0,   0,   0,   0,   0,   0,\n",
       "                0,   0,   0,   0,   0,   0,   0,   3,   6,   5,  29,   4,  15,\n",
       "               48,  21,   2,  92,  79,   1, 808,  36,  10, 284, 137, 712,  20,\n",
       "               11,  50,  96,   1, 326,  12, 110, 928, 209], dtype=int32)      ,\n",
       "       array([0., 0., 0., 0., 0., 0., 0., 0., 0., 0., 0., 0., 0., 0., 0., 1., 0.,\n",
       "              0., 0., 0., 0., 0., 0., 0.])                                       ],\n",
       "      dtype=object)"
      ]
     },
     "execution_count": 121,
     "metadata": {},
     "output_type": "execute_result"
    }
   ],
   "source": [
    "data = np.array([(x, y) for x, y in [*zip(X, targets)]])\n",
    "data[0]"
   ]
  },
  {
   "cell_type": "code",
   "execution_count": 122,
   "metadata": {},
   "outputs": [],
   "source": [
    "np.random.shuffle(data)"
   ]
  },
  {
   "cell_type": "code",
   "execution_count": 123,
   "metadata": {},
   "outputs": [],
   "source": [
    "train_ds = data[:1000]\n",
    "val_ds = data[1000:1100]\n",
    "test_ds = data[1100:]"
   ]
  },
  {
   "cell_type": "code",
   "execution_count": 124,
   "metadata": {},
   "outputs": [],
   "source": [
    "x_train = []\n",
    "y_train = []\n",
    "x_val = []\n",
    "y_val = []\n",
    "x_test = []\n",
    "y_test = []\n",
    "\n",
    "for x, y in train_ds:\n",
    "    x_train.append(x)\n",
    "    y_train.append(y)\n",
    "\n",
    "for x, y in val_ds:\n",
    "    x_val.append(x)\n",
    "    y_val.append(y)\n",
    "\n",
    "for x, y in test_ds:\n",
    "    x_test.append(x)\n",
    "    y_test.append(y)"
   ]
  },
  {
   "cell_type": "code",
   "execution_count": 125,
   "metadata": {},
   "outputs": [],
   "source": [
    "x_train = np.array(x_train)\n",
    "y_train = np.array(y_train)\n",
    "x_val = np.array(x_val)\n",
    "y_val = np.array(y_val)\n",
    "x_test = np.array(x_test)\n",
    "y_test = np.array(y_test)"
   ]
  },
  {
   "cell_type": "code",
   "execution_count": 126,
   "metadata": {},
   "outputs": [],
   "source": [
    "embedding_layer = Embedding(\n",
    "    num_words,\n",
    "    EMBEDDING_DIM,\n",
    "    weights=[embedding_matrix],\n",
    "    input_length=MAX_SEQUENCE_LENGTH,\n",
    "    trainable=False\n",
    ")"
   ]
  },
  {
   "cell_type": "code",
   "execution_count": 127,
   "metadata": {},
   "outputs": [],
   "source": [
    "input_ = Input(shape=(MAX_SEQUENCE_LENGTH))\n",
    "\n",
    "x = embedding_layer(input_)\n",
    "\n",
    "rnn = Bidirectional(LSTM(LATENT_DIM, return_sequences=True))\n",
    "\n",
    "h = rnn(x)\n",
    "\n",
    "dense1 = Dense(10, activation='tanh')\n",
    "dense2 = Dense(1, activation=softmax_over_time)\n",
    "\n",
    "x = dense1(h)\n",
    "alphas = dense2(x)\n",
    "\n",
    "dot = Dot(axes=1)\n",
    "\n",
    "x = dot([alphas, h])\n",
    "\n",
    "dense3 = Dense(100, activation='relu')\n",
    "output_dense = Dense(len(classes), activation='softmax')\n",
    "\n",
    "x = dense3(x)\n",
    "x = Dropout(0.7)(x)\n",
    "output = output_dense(x)\n",
    "\n",
    "output = Reshape((24, ))(output)\n",
    "\n",
    "model = tf.keras.models.Model(inputs=[input_], outputs=[output])"
   ]
  },
  {
   "cell_type": "code",
   "execution_count": 128,
   "metadata": {},
   "outputs": [],
   "source": [
    "model.compile('adam', 'categorical_crossentropy', metrics=['accuracy'])"
   ]
  },
  {
   "cell_type": "code",
   "execution_count": 129,
   "metadata": {},
   "outputs": [
    {
     "name": "stdout",
     "output_type": "stream",
     "text": [
      "Model: \"model_5\"\n",
      "__________________________________________________________________________________________________\n",
      " Layer (type)                   Output Shape         Param #     Connected to                     \n",
      "==================================================================================================\n",
      " input_6 (InputLayer)           [(None, 100)]        0           []                               \n",
      "                                                                                                  \n",
      " embedding_4 (Embedding)        (None, 100, 300)     472800      ['input_6[0][0]']                \n",
      "                                                                                                  \n",
      " bidirectional_5 (Bidirectional  (None, 100, 512)    1140736     ['embedding_4[0][0]']            \n",
      " )                                                                                                \n",
      "                                                                                                  \n",
      " dense_16 (Dense)               (None, 100, 10)      5130        ['bidirectional_5[0][0]']        \n",
      "                                                                                                  \n",
      " dense_17 (Dense)               (None, 100, 1)       11          ['dense_16[0][0]']               \n",
      "                                                                                                  \n",
      " dot_3 (Dot)                    (None, 1, 512)       0           ['dense_17[0][0]',               \n",
      "                                                                  'bidirectional_5[0][0]']        \n",
      "                                                                                                  \n",
      " dense_18 (Dense)               (None, 1, 100)       51300       ['dot_3[0][0]']                  \n",
      "                                                                                                  \n",
      " dropout_5 (Dropout)            (None, 1, 100)       0           ['dense_18[0][0]']               \n",
      "                                                                                                  \n",
      " dense_19 (Dense)               (None, 1, 24)        2424        ['dropout_5[0][0]']              \n",
      "                                                                                                  \n",
      " reshape_5 (Reshape)            (None, 24)           0           ['dense_19[0][0]']               \n",
      "                                                                                                  \n",
      "==================================================================================================\n",
      "Total params: 1,672,401\n",
      "Trainable params: 1,199,601\n",
      "Non-trainable params: 472,800\n",
      "__________________________________________________________________________________________________\n"
     ]
    }
   ],
   "source": [
    "model.summary()"
   ]
  },
  {
   "cell_type": "code",
   "execution_count": 130,
   "metadata": {},
   "outputs": [
    {
     "name": "stdout",
     "output_type": "stream",
     "text": [
      "Epoch 1/30\n"
     ]
    },
    {
     "name": "stderr",
     "output_type": "stream",
     "text": [
      "2023-05-18 22:27:29.138105: I tensorflow/core/grappler/optimizers/custom_graph_optimizer_registry.cc:114] Plugin optimizer for device_type GPU is enabled.\n",
      "2023-05-18 22:27:29.463392: I tensorflow/core/grappler/optimizers/custom_graph_optimizer_registry.cc:114] Plugin optimizer for device_type GPU is enabled.\n",
      "2023-05-18 22:27:29.482569: I tensorflow/core/grappler/optimizers/custom_graph_optimizer_registry.cc:114] Plugin optimizer for device_type GPU is enabled.\n",
      "2023-05-18 22:27:30.139963: I tensorflow/core/grappler/optimizers/custom_graph_optimizer_registry.cc:114] Plugin optimizer for device_type GPU is enabled.\n",
      "2023-05-18 22:27:30.170615: I tensorflow/core/grappler/optimizers/custom_graph_optimizer_registry.cc:114] Plugin optimizer for device_type GPU is enabled.\n"
     ]
    },
    {
     "name": "stdout",
     "output_type": "stream",
     "text": [
      "32/32 [==============================] - ETA: 0s - loss: 3.1364 - accuracy: 0.0770"
     ]
    },
    {
     "name": "stderr",
     "output_type": "stream",
     "text": [
      "2023-05-18 22:27:34.796046: I tensorflow/core/grappler/optimizers/custom_graph_optimizer_registry.cc:114] Plugin optimizer for device_type GPU is enabled.\n",
      "2023-05-18 22:27:34.904774: I tensorflow/core/grappler/optimizers/custom_graph_optimizer_registry.cc:114] Plugin optimizer for device_type GPU is enabled.\n",
      "2023-05-18 22:27:34.917520: I tensorflow/core/grappler/optimizers/custom_graph_optimizer_registry.cc:114] Plugin optimizer for device_type GPU is enabled.\n"
     ]
    },
    {
     "name": "stdout",
     "output_type": "stream",
     "text": [
      "32/32 [==============================] - 8s 164ms/step - loss: 3.1364 - accuracy: 0.0770 - val_loss: 2.9349 - val_accuracy: 0.1200\n",
      "Epoch 2/30\n",
      "32/32 [==============================] - 3s 84ms/step - loss: 2.6841 - accuracy: 0.2160 - val_loss: 2.0811 - val_accuracy: 0.4200\n",
      "Epoch 3/30\n",
      "32/32 [==============================] - 3s 83ms/step - loss: 1.8574 - accuracy: 0.4780 - val_loss: 1.2390 - val_accuracy: 0.7200\n",
      "Epoch 4/30\n",
      "32/32 [==============================] - 3s 81ms/step - loss: 1.2055 - accuracy: 0.6420 - val_loss: 0.8803 - val_accuracy: 0.7700\n",
      "Epoch 5/30\n",
      "32/32 [==============================] - 3s 83ms/step - loss: 0.8505 - accuracy: 0.7410 - val_loss: 0.6493 - val_accuracy: 0.8500\n",
      "Epoch 6/30\n",
      "32/32 [==============================] - 3s 84ms/step - loss: 0.5696 - accuracy: 0.8530 - val_loss: 0.4734 - val_accuracy: 0.8500\n",
      "Epoch 7/30\n",
      "32/32 [==============================] - 3s 88ms/step - loss: 0.4410 - accuracy: 0.8670 - val_loss: 0.4124 - val_accuracy: 0.8700\n",
      "Epoch 8/30\n",
      "32/32 [==============================] - 3s 85ms/step - loss: 0.3546 - accuracy: 0.8940 - val_loss: 0.3830 - val_accuracy: 0.9000\n",
      "Epoch 9/30\n",
      "32/32 [==============================] - 3s 82ms/step - loss: 0.2585 - accuracy: 0.9360 - val_loss: 0.3071 - val_accuracy: 0.9100\n",
      "Epoch 10/30\n",
      "32/32 [==============================] - 3s 83ms/step - loss: 0.1919 - accuracy: 0.9530 - val_loss: 0.2978 - val_accuracy: 0.9100\n",
      "Epoch 11/30\n",
      "32/32 [==============================] - 3s 82ms/step - loss: 0.1444 - accuracy: 0.9640 - val_loss: 0.3020 - val_accuracy: 0.9200\n",
      "Epoch 12/30\n",
      "32/32 [==============================] - 3s 82ms/step - loss: 0.1763 - accuracy: 0.9540 - val_loss: 0.2483 - val_accuracy: 0.9200\n",
      "Epoch 13/30\n",
      "32/32 [==============================] - 3s 82ms/step - loss: 0.1130 - accuracy: 0.9740 - val_loss: 0.1828 - val_accuracy: 0.9500\n",
      "Epoch 14/30\n",
      "32/32 [==============================] - 3s 82ms/step - loss: 0.0778 - accuracy: 0.9830 - val_loss: 0.1801 - val_accuracy: 0.9600\n",
      "Epoch 15/30\n",
      "32/32 [==============================] - 3s 83ms/step - loss: 0.0562 - accuracy: 0.9840 - val_loss: 0.1628 - val_accuracy: 0.9500\n",
      "Epoch 16/30\n",
      "32/32 [==============================] - 3s 82ms/step - loss: 0.0437 - accuracy: 0.9920 - val_loss: 0.1258 - val_accuracy: 0.9600\n",
      "Epoch 17/30\n",
      "32/32 [==============================] - 3s 83ms/step - loss: 0.0562 - accuracy: 0.9870 - val_loss: 0.2234 - val_accuracy: 0.9400\n",
      "Epoch 18/30\n",
      "32/32 [==============================] - 3s 83ms/step - loss: 0.0745 - accuracy: 0.9830 - val_loss: 0.1223 - val_accuracy: 0.9600\n",
      "Epoch 19/30\n",
      "32/32 [==============================] - 3s 87ms/step - loss: 0.0533 - accuracy: 0.9890 - val_loss: 0.2007 - val_accuracy: 0.9400\n",
      "Epoch 20/30\n",
      "32/32 [==============================] - 3s 86ms/step - loss: 0.0387 - accuracy: 0.9930 - val_loss: 0.1448 - val_accuracy: 0.9400\n",
      "Epoch 21/30\n",
      "32/32 [==============================] - 3s 84ms/step - loss: 0.0353 - accuracy: 0.9910 - val_loss: 0.1634 - val_accuracy: 0.9500\n",
      "Epoch 22/30\n",
      "32/32 [==============================] - 3s 85ms/step - loss: 0.0281 - accuracy: 0.9950 - val_loss: 0.1563 - val_accuracy: 0.9300\n",
      "Epoch 23/30\n",
      "32/32 [==============================] - 3s 84ms/step - loss: 0.0135 - accuracy: 0.9990 - val_loss: 0.1101 - val_accuracy: 0.9500\n",
      "Epoch 24/30\n",
      "32/32 [==============================] - 3s 86ms/step - loss: 0.0154 - accuracy: 0.9970 - val_loss: 0.1680 - val_accuracy: 0.9500\n",
      "Epoch 25/30\n",
      "32/32 [==============================] - 3s 85ms/step - loss: 0.0099 - accuracy: 0.9990 - val_loss: 0.1867 - val_accuracy: 0.9500\n",
      "Epoch 26/30\n",
      "32/32 [==============================] - 3s 85ms/step - loss: 0.0086 - accuracy: 0.9990 - val_loss: 0.1476 - val_accuracy: 0.9500\n",
      "Epoch 27/30\n",
      "32/32 [==============================] - 3s 87ms/step - loss: 0.0060 - accuracy: 1.0000 - val_loss: 0.1166 - val_accuracy: 0.9600\n",
      "Epoch 28/30\n",
      "32/32 [==============================] - 3s 86ms/step - loss: 0.0049 - accuracy: 1.0000 - val_loss: 0.1269 - val_accuracy: 0.9600\n",
      "Epoch 29/30\n",
      "32/32 [==============================] - 3s 86ms/step - loss: 0.0035 - accuracy: 1.0000 - val_loss: 0.1522 - val_accuracy: 0.9700\n",
      "Epoch 30/30\n",
      "32/32 [==============================] - 3s 87ms/step - loss: 0.0031 - accuracy: 1.0000 - val_loss: 0.1721 - val_accuracy: 0.9600\n"
     ]
    }
   ],
   "source": [
    "hist = model.fit(x_train, y_train, validation_data=(x_val, y_val), batch_size=BATCH_SIZE, epochs=EPOCHS)"
   ]
  },
  {
   "cell_type": "code",
   "execution_count": 131,
   "metadata": {},
   "outputs": [
    {
     "data": {
      "image/png": "[encoded data removed]",
      "text/plain": [
       "<Figure size 640x480 with 1 Axes>"
      ]
     },
     "metadata": {},
     "output_type": "display_data"
    }
   ],
   "source": [
    "plt.plot(hist.history['accuracy'], label='accuracy')\n",
    "plt.plot(hist.history['val_accuracy'], label='val_accuracy')\n",
    "plt.legend()\n",
    "plt.show()"
   ]
  },
  {
   "cell_type": "code",
   "execution_count": 132,
   "metadata": {},
   "outputs": [
    {
     "data": {
      "image/png": "[encoded data removed]",
      "text/plain": [
       "<Figure size 640x480 with 1 Axes>"
      ]
     },
     "metadata": {},
     "output_type": "display_data"
    }
   ],
   "source": [
    "plt.plot(hist.history['loss'], label='loss')\n",
    "plt.plot(hist.history['val_loss'], label='val_loss')\n",
    "plt.legend()\n",
    "plt.show()"
   ]
  },
  {
   "cell_type": "code",
   "execution_count": 133,
   "metadata": {},
   "outputs": [
    {
     "name": "stdout",
     "output_type": "stream",
     "text": [
      "4/4 [==============================] - 0s 54ms/step - loss: 0.0690 - accuracy: 0.9800\n"
     ]
    }
   ],
   "source": [
    "loss, accuracy = model.evaluate(x_test, y_test)"
   ]
  },
  {
   "cell_type": "code",
   "execution_count": 134,
   "metadata": {},
   "outputs": [
    {
     "data": {
      "image/png": "[encoded data removed]",
      "text/plain": [
       "<IPython.core.display.Image object>"
      ]
     },
     "execution_count": 134,
     "metadata": {},
     "output_type": "execute_result"
    }
   ],
   "source": [
    "tf.keras.utils.plot_model(model)"
   ]
  },
  {
   "cell_type": "code",
   "execution_count": 135,
   "metadata": {},
   "outputs": [],
   "source": [
    "model.save('model.h5')"
   ]
  }
 ],
 "metadata": {
  "kernelspec": {
   "display_name": "ml",
   "language": "python",
   "name": "python3"
  },
  "language_info": {
   "codemirror_mode": {
    "name": "ipython",
    "version": 3
   },
   "file_extension": ".py",
   "mimetype": "text/x-python",
   "name": "python",
   "nbconvert_exporter": "python",
   "pygments_lexer": "ipython3",
   "version": "3.9.13"
  },
  "orig_nbformat": 4
 },
 "nbformat": 4,
 "nbformat_minor": 2
}
